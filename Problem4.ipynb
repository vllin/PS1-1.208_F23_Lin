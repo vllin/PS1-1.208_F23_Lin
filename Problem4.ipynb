{
 "cells": [
  {
   "cell_type": "markdown",
   "metadata": {},
   "source": [
    "### Maximum Flow Interdiction"
   ]
  },
  {
   "cell_type": "code",
   "execution_count": 1,
   "metadata": {},
   "outputs": [],
   "source": [
    "import numpy as np\n",
    "from scipy.optimize import linprog"
   ]
  },
  {
   "cell_type": "code",
   "execution_count": 2,
   "metadata": {},
   "outputs": [],
   "source": [
    "nodes = ['s','1','2','t']\n",
    "edges = [\n",
    "    ('s','1'), ('s','2'),\n",
    "    ('1','2'), ('1','t'),\n",
    "    ('2','t')\n",
    "]\n",
    "capacities = [3, 1, 2, 2, 3]\n",
    "costs = [4, 1, 1, 2, 4]"
   ]
  },
  {
   "cell_type": "markdown",
   "metadata": {},
   "source": [
    "Using the single-stage integer linear program derived in 4.7:"
   ]
  },
  {
   "cell_type": "code",
   "execution_count": 3,
   "metadata": {},
   "outputs": [
    {
     "name": "stdout",
     "output_type": "stream",
     "text": [
      "B = 0 :\n",
      "=> [x alpha theta gamma] = [0, 0, 0, 0, 0, 0, 1, 1, 1, 1, 1, 0, 0, 0, 1, 1, 0, 0, 0]\n",
      "=> max interdicted flow = 4\n",
      "B = 1 :\n",
      "=> [x alpha theta gamma] = [0, 0, 0, 0, 0, 0, 1, 1, 1, 1, 1, 0, 0, 0, 0, 1, 0, 0, 0]\n",
      "=> max interdicted flow = 1\n",
      "B = 2 :\n",
      "=> [x alpha theta gamma] = [0, 1, 0, 0, 0, 0, 0, 0, 1, 0, 0, 0, 0, 0, 0, 0, 0, 0, 0]\n",
      "=> max interdicted flow = 0\n",
      "B = 3 :\n",
      "=> [x alpha theta gamma] = [0, 1, 1, 1, 0, 0, 0, 1, 1, 0, 1, 1, 1, 0, 0, 0, 0, 0, 0]\n",
      "=> max interdicted flow = 0\n",
      "B = 4 :\n",
      "=> [x alpha theta gamma] = [1, 1, 1, 1, 0, 0, 0, 1, 1, 1, 1, 1, 1, 0, 0, 0, 0, 0, 0]\n",
      "=> max interdicted flow = 0\n"
     ]
    }
   ],
   "source": [
    "for B in [0,1,2,3,4]:\n",
    "    soln = linprog(c = [0]*(len(edges)+len(nodes)+len(edges)) + capacities,\n",
    "               A_eq = np.array([[0]*len(edges) + [-1,1,0,0] + [-1,0,0,0,0] + [0]*len(edges),\n",
    "                                [0]*len(edges) + [-1,0,1,0] + [0,-1,0,0,0] + [0]*len(edges),\n",
    "                                [0]*len(edges) + [0,-1,1,0] + [0,0,-1,0,0] + [0]*len(edges),\n",
    "                                [0]*len(edges) + [0,-1,0,1] + [0,0,0,-1,0] + [0]*len(edges),\n",
    "                                [0]*len(edges) + [0,0,-1,1] + [0,0,0,0,-1] + [0]*len(edges),\n",
    "                                [0]*len(edges) + [+1,0,0,-1] + [0]*(2*len(edges)),\n",
    "                                [-1,0,0,0,0] + [0]*len(nodes) + [1,0,0,0,0] + [-1,0,0,0,0],\n",
    "                                [0,-1,0,0,0] + [0]*len(nodes) + [0,1,0,0,0] + [0,-1,0,0,0],\n",
    "                                [0,0,-1,0,0] + [0]*len(nodes) + [0,0,1,0,0] + [0,0,-1,0,0],\n",
    "                                [0,0,0,-1,0] + [0]*len(nodes) + [0,0,0,1,0] + [0,0,0,-1,0],\n",
    "                                [0,0,0,0,-1] + [0]*len(nodes) + [0,0,0,0,1] + [0,0,0,0,-1],\n",
    "                                [1]*len(edges) + [0]*(len(nodes)+2*len(edges))\n",
    "                               ]),\n",
    "               b_eq = np.array([0]*len(edges) + [-1] + [0]*len(edges) + [B]),\n",
    "               bounds = [(0,1) for i in edges+nodes+edges+edges],\n",
    "              )\n",
    "    print('B =', B, ':')\n",
    "    print('=> [x alpha theta gamma] =', [int(x) for x in soln['x']])\n",
    "    print('=> max interdicted flow =', int(soln['fun']))"
   ]
  },
  {
   "cell_type": "code",
   "execution_count": null,
   "metadata": {},
   "outputs": [],
   "source": []
  }
 ],
 "metadata": {
  "kernelspec": {
   "display_name": "Python 3",
   "language": "python",
   "name": "python3"
  },
  "language_info": {
   "codemirror_mode": {
    "name": "ipython",
    "version": 3
   },
   "file_extension": ".py",
   "mimetype": "text/x-python",
   "name": "python",
   "nbconvert_exporter": "python",
   "pygments_lexer": "ipython3",
   "version": "3.7.2"
  }
 },
 "nbformat": 4,
 "nbformat_minor": 2
}
