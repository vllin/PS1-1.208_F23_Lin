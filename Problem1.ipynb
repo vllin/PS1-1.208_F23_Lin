{
 "cells": [
  {
   "cell_type": "markdown",
   "metadata": {},
   "source": [
    "### Maximum Flow for Response Operations"
   ]
  },
  {
   "cell_type": "code",
   "execution_count": 1,
   "metadata": {},
   "outputs": [],
   "source": [
    "import numpy as np\n",
    "import networkx as nx\n",
    "import matplotlib.pyplot as plt\n",
    "from scipy.optimize import linprog"
   ]
  },
  {
   "cell_type": "markdown",
   "metadata": {},
   "source": [
    "#### Drawing the corresponding graph"
   ]
  },
  {
   "cell_type": "code",
   "execution_count": 2,
   "metadata": {},
   "outputs": [],
   "source": [
    "G = nx.DiGraph()\n",
    "nodes = ['A','B','C','D','E']\n",
    "edges = [\n",
    "    ('A','B'), ('A','C'),\n",
    "    ('B','E'),\n",
    "    ('C','B'), ('C','D'),\n",
    "    ('D','E')\n",
    "]\n",
    "capacities = [300, 650, 450, 100, 470, 800]\n",
    "\n",
    "G.add_nodes_from(nodes)\n",
    "G.add_edges_from(edges)\n",
    "nx.set_edge_attributes(G, dict(zip(edges,capacities)), name='capacity')"
   ]
  },
  {
   "cell_type": "code",
   "execution_count": 3,
   "metadata": {},
   "outputs": [],
   "source": [
    "pos = {\n",
    "    'A': np.array([-.8,0.]),\n",
    "    'B': np.array([0.,.2]),\n",
    "    'C': np.array([-.3,-.2]),\n",
    "    'D': np.array([.3,-.2]),\n",
    "    'E': np.array([.8,0.]),\n",
    "}"
   ]
  },
  {
   "cell_type": "code",
   "execution_count": 4,
   "metadata": {},
   "outputs": [
    {
     "data": {
      "image/png": "[encoded data removed]",
      "text/plain": [
       "<Figure size 504x288 with 1 Axes>"
      ]
     },
     "metadata": {},
     "output_type": "display_data"
    }
   ],
   "source": [
    "plt.figure(figsize=(7,4))\n",
    "nx.draw(G, pos=pos, with_labels=True,\n",
    "        node_color='lightblue',\n",
    "        node_size=500, width=2,\n",
    "        font_size=14)\n",
    "nx.draw_networkx_edge_labels(G, pos, dict(zip(edges,capacities)), font_size=12)\n",
    "plt.show()"
   ]
  },
  {
   "cell_type": "markdown",
   "metadata": {},
   "source": [
    "#### Maximum flow problem"
   ]
  },
  {
   "cell_type": "markdown",
   "metadata": {},
   "source": [
    "Using scipy.optimize to minimize\n",
    "$$[-1 \\hspace{.5em} -1 \\hspace{.5em} 0 \\hspace{.5em} 0 \\hspace{.5em} 0 \\hspace{.5em} 0] \\cdot x,$$\n",
    "such that\n",
    "$$ A_{eq}x=b_{eq}, $$\n",
    "$$ x_i \\leq \\text{capacity}(i) \\hspace{1em} \\forall i. $$"
   ]
  },
  {
   "cell_type": "code",
   "execution_count": 5,
   "metadata": {},
   "outputs": [
    {
     "data": {
      "text/plain": [
       "     con: array([0., 0., 0.])\n",
       "     fun: -870.0\n",
       " message: 'Optimization terminated successfully.'\n",
       "     nit: 9\n",
       "   slack: array([], dtype=float64)\n",
       "  status: 0\n",
       " success: True\n",
       "       x: array([300., 570., 400., 100., 470., 470.])"
      ]
     },
     "execution_count": 5,
     "metadata": {},
     "output_type": "execute_result"
    }
   ],
   "source": [
    "linprog(c = np.array([-1,-1,0,0,0,0]),\n",
    "        A_eq = np.array([[1,0,-1,1,0,0], [0,1,0,-1,-1,0], [0,0,0,0,1,-1]]),\n",
    "        b_eq = np.array([0,0,0]),\n",
    "        bounds = [item for item in zip(np.zeros(len(capacities)), capacities)]\n",
    "       )"
   ]
  },
  {
   "cell_type": "code",
   "execution_count": 6,
   "metadata": {},
   "outputs": [
    {
     "data": {
      "text/plain": [
       "(870,\n",
       " {'A': {'B': 300, 'C': 570},\n",
       "  'B': {'E': 400},\n",
       "  'C': {'B': 100, 'D': 470},\n",
       "  'D': {'E': 470},\n",
       "  'E': {}})"
      ]
     },
     "execution_count": 6,
     "metadata": {},
     "output_type": "execute_result"
    }
   ],
   "source": [
    "# Can also use networkx's maximum flow function to check:\n",
    "nx.maximum_flow(G, 'A','E')"
   ]
  }
 ],
 "metadata": {
  "kernelspec": {
   "display_name": "Python 3",
   "language": "python",
   "name": "python3"
  },
  "language_info": {
   "codemirror_mode": {
    "name": "ipython",
    "version": 3
   },
   "file_extension": ".py",
   "mimetype": "text/x-python",
   "name": "python",
   "nbconvert_exporter": "python",
   "pygments_lexer": "ipython3",
   "version": "3.7.2"
  }
 },
 "nbformat": 4,
 "nbformat_minor": 2
}
